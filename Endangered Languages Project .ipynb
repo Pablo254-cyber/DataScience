{
 "cells": [
  {
   "cell_type": "code",
   "execution_count": 1,
   "id": "94689c88",
   "metadata": {
    "scrolled": true
   },
   "outputs": [
    {
     "name": "stdout",
     "output_type": "stream",
     "text": [
      "Hello World\n"
     ]
    }
   ],
   "source": [
    "print(\"Hello World\")"
   ]
  },
  {
   "cell_type": "code",
   "execution_count": 42,
   "id": "1cca7a63",
   "metadata": {
    "scrolled": true
   },
   "outputs": [
    {
     "data": {
      "text/plain": [
       "([0, 1, 2, 3, 4],\n",
       " [Text(0, 0, ''),\n",
       "  Text(0, 0, ''),\n",
       "  Text(0, 0, ''),\n",
       "  Text(0, 0, ''),\n",
       "  Text(0, 0, '')])"
      ]
     },
     "execution_count": 42,
     "metadata": {},
     "output_type": "execute_result"
    },
    {
     "data": {
      "image/png": "[encoded data removed]",
      "text/plain": [
       "<Figure size 648x432 with 1 Axes>"
      ]
     },
     "metadata": {},
     "output_type": "display_data"
    }
   ],
   "source": [
    "import pandas as pd\n",
    "import matplotlib.pyplot as plt\n",
    "import seaborn as sns\n",
    "sns.set()\n",
    "df_data=pd.read_csv('data.csv')\n",
    "df_data\n",
    "plt.figure(figsize=(9,6))\n",
    "plt.bar(x=df_data['Degree of endangerment'],\n",
    "        height=df_data'Number of columns',\n",
    "        color=\"red\")\n",
    "plt.xticks(rotation=45)\n",
    "\n",
    "\n"
   ]
  },
  {
   "cell_type": "code",
   "execution_count": 48,
   "id": "a3c75319",
   "metadata": {},
   "outputs": [
    {
     "data": {
      "text/html": [
       "<div>\n",
       "<style scoped>\n",
       "    .dataframe tbody tr th:only-of-type {\n",
       "        vertical-align: middle;\n",
       "    }\n",
       "\n",
       "    .dataframe tbody tr th {\n",
       "        vertical-align: top;\n",
       "    }\n",
       "\n",
       "    .dataframe thead th {\n",
       "        text-align: right;\n",
       "    }\n",
       "</style>\n",
       "<table border=\"1\" class=\"dataframe\">\n",
       "  <thead>\n",
       "    <tr style=\"text-align: right;\">\n",
       "      <th></th>\n",
       "      <th>ID</th>\n",
       "      <th>Name in English</th>\n",
       "      <th>Name in French</th>\n",
       "      <th>Name in Spanish</th>\n",
       "      <th>Countries</th>\n",
       "      <th>Country codes alpha 3</th>\n",
       "      <th>ISO639-3 codes</th>\n",
       "      <th>Degree of endangerment</th>\n",
       "      <th>Alternate names</th>\n",
       "      <th>Name in the language</th>\n",
       "      <th>Number of speakers</th>\n",
       "      <th>Sources</th>\n",
       "      <th>Latitude</th>\n",
       "      <th>Longitude</th>\n",
       "      <th>Description of the location</th>\n",
       "    </tr>\n",
       "  </thead>\n",
       "  <tbody>\n",
       "    <tr>\n",
       "      <th>0</th>\n",
       "      <td>1022</td>\n",
       "      <td>South Italian</td>\n",
       "      <td>italien du sud</td>\n",
       "      <td>napolitano-calabrés</td>\n",
       "      <td>Italy</td>\n",
       "      <td>ITA</td>\n",
       "      <td>nap</td>\n",
       "      <td>Vulnerable</td>\n",
       "      <td>Neapolitan; Neapolitan-Calabrese; неаполитанск...</td>\n",
       "      <td>NaN</td>\n",
       "      <td>7500000.0</td>\n",
       "      <td>NaN</td>\n",
       "      <td>40.9798</td>\n",
       "      <td>15.2490</td>\n",
       "      <td>Campania, Lucania (Basilicata), Abruzzi (Abruz...</td>\n",
       "    </tr>\n",
       "    <tr>\n",
       "      <th>1</th>\n",
       "      <td>1023</td>\n",
       "      <td>Sicilian</td>\n",
       "      <td>sicilien</td>\n",
       "      <td>siciliano</td>\n",
       "      <td>Italy</td>\n",
       "      <td>ITA</td>\n",
       "      <td>scn</td>\n",
       "      <td>Vulnerable</td>\n",
       "      <td>NaN</td>\n",
       "      <td>NaN</td>\n",
       "      <td>5000000.0</td>\n",
       "      <td>NaN</td>\n",
       "      <td>37.4399</td>\n",
       "      <td>14.5019</td>\n",
       "      <td>Sicily (Sicilia), southern and central Calabri...</td>\n",
       "    </tr>\n",
       "    <tr>\n",
       "      <th>2</th>\n",
       "      <td>383</td>\n",
       "      <td>Low Saxon</td>\n",
       "      <td>bas-saxon</td>\n",
       "      <td>bajo sajón</td>\n",
       "      <td>Germany, Denmark, Netherlands, Poland, Russian...</td>\n",
       "      <td>DEU, DNK, NLD, POL, RUS</td>\n",
       "      <td>act, drt, frs, gos, nds, sdz, stl, twd, vel, wep</td>\n",
       "      <td>Vulnerable</td>\n",
       "      <td>Low German, Niedersächsisch, Nedersaksisch, Ni...</td>\n",
       "      <td>Neddersassisch</td>\n",
       "      <td>4800000.0</td>\n",
       "      <td>NaN</td>\n",
       "      <td>53.4029</td>\n",
       "      <td>10.3601</td>\n",
       "      <td>northern Germany, the north-eastern part of th...</td>\n",
       "    </tr>\n",
       "    <tr>\n",
       "      <th>3</th>\n",
       "      <td>335</td>\n",
       "      <td>Belarusian</td>\n",
       "      <td>biélorusse</td>\n",
       "      <td>bielorruso</td>\n",
       "      <td>Belarus, Latvia, Lithuania, Poland, Russian Fe...</td>\n",
       "      <td>BRB, LVA, LTU, POL, RUS, UKR</td>\n",
       "      <td>bel</td>\n",
       "      <td>Vulnerable</td>\n",
       "      <td>NaN</td>\n",
       "      <td>NaN</td>\n",
       "      <td>4000000.0</td>\n",
       "      <td>Hienadź Cychun: Weißrussisch. — Lexikon der Sp...</td>\n",
       "      <td>53.9560</td>\n",
       "      <td>27.5756</td>\n",
       "      <td>Belarus except the Polesian-speaking south-wes...</td>\n",
       "    </tr>\n",
       "    <tr>\n",
       "      <th>4</th>\n",
       "      <td>382</td>\n",
       "      <td>Lombard</td>\n",
       "      <td>lombard</td>\n",
       "      <td>lombardo</td>\n",
       "      <td>Italy, Switzerland</td>\n",
       "      <td>ITA, CHE</td>\n",
       "      <td>lmo</td>\n",
       "      <td>Definitely endangered</td>\n",
       "      <td>NaN</td>\n",
       "      <td>NaN</td>\n",
       "      <td>3500000.0</td>\n",
       "      <td>NaN</td>\n",
       "      <td>45.7215</td>\n",
       "      <td>9.3273</td>\n",
       "      <td>the region of Lombardy (except the southernmos...</td>\n",
       "    </tr>\n",
       "  </tbody>\n",
       "</table>\n",
       "</div>"
      ],
      "text/plain": [
       "     ID Name in English  Name in French      Name in Spanish  \\\n",
       "0  1022   South Italian  italien du sud  napolitano-calabrés   \n",
       "1  1023        Sicilian        sicilien            siciliano   \n",
       "2   383       Low Saxon       bas-saxon           bajo sajón   \n",
       "3   335      Belarusian      biélorusse           bielorruso   \n",
       "4   382         Lombard         lombard             lombardo   \n",
       "\n",
       "                                           Countries  \\\n",
       "0                                              Italy   \n",
       "1                                              Italy   \n",
       "2  Germany, Denmark, Netherlands, Poland, Russian...   \n",
       "3  Belarus, Latvia, Lithuania, Poland, Russian Fe...   \n",
       "4                                 Italy, Switzerland   \n",
       "\n",
       "          Country codes alpha 3  \\\n",
       "0                           ITA   \n",
       "1                           ITA   \n",
       "2       DEU, DNK, NLD, POL, RUS   \n",
       "3  BRB, LVA, LTU, POL, RUS, UKR   \n",
       "4                      ITA, CHE   \n",
       "\n",
       "                                     ISO639-3 codes Degree of endangerment  \\\n",
       "0                                               nap             Vulnerable   \n",
       "1                                               scn             Vulnerable   \n",
       "2  act, drt, frs, gos, nds, sdz, stl, twd, vel, wep             Vulnerable   \n",
       "3                                               bel             Vulnerable   \n",
       "4                                               lmo  Definitely endangered   \n",
       "\n",
       "                                     Alternate names Name in the language  \\\n",
       "0  Neapolitan; Neapolitan-Calabrese; неаполитанск...                  NaN   \n",
       "1                                                NaN                  NaN   \n",
       "2  Low German, Niedersächsisch, Nedersaksisch, Ni...       Neddersassisch   \n",
       "3                                                NaN                  NaN   \n",
       "4                                                NaN                  NaN   \n",
       "\n",
       "   Number of speakers                                            Sources  \\\n",
       "0           7500000.0                                                NaN   \n",
       "1           5000000.0                                                NaN   \n",
       "2           4800000.0                                                NaN   \n",
       "3           4000000.0  Hienadź Cychun: Weißrussisch. — Lexikon der Sp...   \n",
       "4           3500000.0                                                NaN   \n",
       "\n",
       "   Latitude  Longitude                        Description of the location  \n",
       "0   40.9798    15.2490  Campania, Lucania (Basilicata), Abruzzi (Abruz...  \n",
       "1   37.4399    14.5019  Sicily (Sicilia), southern and central Calabri...  \n",
       "2   53.4029    10.3601  northern Germany, the north-eastern part of th...  \n",
       "3   53.9560    27.5756  Belarus except the Polesian-speaking south-wes...  \n",
       "4   45.7215     9.3273  the region of Lombardy (except the southernmos...  "
      ]
     },
     "execution_count": 48,
     "metadata": {},
     "output_type": "execute_result"
    }
   ],
   "source": [
    "data.head()\n",
    "\n",
    "\n",
    "\n",
    "\n"
   ]
  },
  {
   "cell_type": "code",
   "execution_count": 49,
   "id": "5d9b983d",
   "metadata": {},
   "outputs": [
    {
     "data": {
      "text/plain": [
       "Index(['ID', 'Name in English', 'Name in French', 'Name in Spanish',\n",
       "       'Countries', 'Country codes alpha 3', 'ISO639-3 codes',\n",
       "       'Degree of endangerment', 'Alternate names', 'Name in the language',\n",
       "       'Number of speakers', 'Sources', 'Latitude', 'Longitude',\n",
       "       'Description of the location'],\n",
       "      dtype='object')"
      ]
     },
     "execution_count": 49,
     "metadata": {},
     "output_type": "execute_result"
    }
   ],
   "source": [
    "data.columns"
   ]
  },
  {
   "cell_type": "code",
   "execution_count": 52,
   "id": "07d8b5af",
   "metadata": {},
   "outputs": [
    {
     "data": {
      "text/plain": [
       "(2722, 15)"
      ]
     },
     "execution_count": 52,
     "metadata": {},
     "output_type": "execute_result"
    }
   ],
   "source": [
    "data.shape"
   ]
  },
  {
   "cell_type": "code",
   "execution_count": 76,
   "id": "b95c1621",
   "metadata": {},
   "outputs": [
    {
     "data": {
      "text/html": [
       "<div>\n",
       "<style scoped>\n",
       "    .dataframe tbody tr th:only-of-type {\n",
       "        vertical-align: middle;\n",
       "    }\n",
       "\n",
       "    .dataframe tbody tr th {\n",
       "        vertical-align: top;\n",
       "    }\n",
       "\n",
       "    .dataframe thead th {\n",
       "        text-align: right;\n",
       "    }\n",
       "</style>\n",
       "<table border=\"1\" class=\"dataframe\">\n",
       "  <thead>\n",
       "    <tr style=\"text-align: right;\">\n",
       "      <th></th>\n",
       "      <th>ID</th>\n",
       "      <th>Name in English</th>\n",
       "      <th>Name in French</th>\n",
       "      <th>Name in Spanish</th>\n",
       "      <th>Countries</th>\n",
       "      <th>Country codes alpha 3</th>\n",
       "      <th>ISO639-3 codes</th>\n",
       "      <th>Degree of endangerment</th>\n",
       "      <th>Alternate names</th>\n",
       "      <th>Name in the language</th>\n",
       "      <th>Number of speakers</th>\n",
       "      <th>Sources</th>\n",
       "      <th>Latitude</th>\n",
       "      <th>Longitude</th>\n",
       "      <th>Description of the location</th>\n",
       "    </tr>\n",
       "  </thead>\n",
       "  <tbody>\n",
       "  </tbody>\n",
       "</table>\n",
       "</div>"
      ],
      "text/plain": [
       "Empty DataFrame\n",
       "Columns: [ID, Name in English, Name in French, Name in Spanish, Countries, Country codes alpha 3, ISO639-3 codes, Degree of endangerment, Alternate names, Name in the language, Number of speakers, Sources, Latitude, Longitude, Description of the location]\n",
       "Index: []"
      ]
     },
     "execution_count": 76,
     "metadata": {},
     "output_type": "execute_result"
    }
   ],
   "source": [
    "data[data.Countries == 'Kenya' 'Ethiopia' 'Tanzania' 'Uganda' 'Rwanda' 'Burundi' 'South Sudan'  'Somalia']\n"
   ]
  },
  {
   "cell_type": "code",
   "execution_count": null,
   "id": "02dcfade",
   "metadata": {},
   "outputs": [],
   "source": []
  },
  {
   "cell_type": "code",
   "execution_count": null,
   "id": "fcfcbd3c",
   "metadata": {},
   "outputs": [],
   "source": []
  }
 ],
 "metadata": {
  "kernelspec": {
   "display_name": "Python 3",
   "language": "python",
   "name": "python3"
  },
  "language_info": {
   "codemirror_mode": {
    "name": "ipython",
    "version": 3
   },
   "file_extension": ".py",
   "mimetype": "text/x-python",
   "name": "python",
   "nbconvert_exporter": "python",
   "pygments_lexer": "ipython3",
   "version": "3.8.8"
  }
 },
 "nbformat": 4,
 "nbformat_minor": 5
}
